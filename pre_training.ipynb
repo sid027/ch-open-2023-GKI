{
  "nbformat": 4,
  "nbformat_minor": 0,
  "metadata": {
    "colab": {
      "provenance": []
    },
    "kernelspec": {
      "name": "python3",
      "display_name": "Python 3"
    },
    "language_info": {
      "name": "python"
    }
  },
  "cells": [
    {
      "cell_type": "code",
      "source": [
        "# read file\n"
      ],
      "metadata": {
        "id": "MiTfAZLnandu"
      },
      "execution_count": 2,
      "outputs": []
    },
    {
      "cell_type": "code",
      "source": [
        "# create vocabulary\n"
      ],
      "metadata": {
        "id": "Em7IOTMGasmY"
      },
      "execution_count": 3,
      "outputs": []
    },
    {
      "cell_type": "code",
      "source": [
        "# Tokenize\n",
        "stoi = {ch: i for i, ch in enumerate(chars)}\n",
        "itos = {i: ch for i, ch in enumerate(chars)}\n",
        "\n",
        "encode = lambda s: [stoi[c] for c in s]\n",
        "decode = lambda l: ''.join([itos[i] for i in l])\n",
        "print(encode(\"hii there\"))\n",
        "print(decode(encode(\"hii there\")))"
      ],
      "metadata": {
        "id": "VTUIp-qKayW9"
      },
      "execution_count": null,
      "outputs": []
    },
    {
      "cell_type": "code",
      "source": [
        "import torch\n",
        "import torch.nn as nn\n",
        "from torch.nn import functional as F"
      ],
      "metadata": {
        "id": "KFYDtK1MbLuv"
      },
      "execution_count": null,
      "outputs": []
    },
    {
      "cell_type": "code",
      "source": [
        "# encode the dataset\n"
      ],
      "metadata": {
        "id": "yWm9tu6ebH5r"
      },
      "execution_count": null,
      "outputs": []
    },
    {
      "cell_type": "code",
      "source": [
        "# training and test data split\n"
      ],
      "metadata": {
        "id": "vLEBI5f9bJOi"
      },
      "execution_count": null,
      "outputs": []
    },
    {
      "cell_type": "code",
      "source": [
        "# batching function\n",
        "def get_batch(split):\n",
        "    data_ = train_data if split == \"train\" else val_data\n",
        "    ix = torch.randint(len(data_) - block_size, (batch_size,))\n",
        "    x = torch.stack([data_[i:i+block_size] for i in ix])\n",
        "    y = torch.stack([data_[i+1:i+block_size+1] for i in ix])\n",
        "    return x, y\n",
        "\n",
        "\n",
        "xb, yb = get_batch('train')\n",
        "print(yb)\n",
        "\n",
        "# bigram models with the appropriate functions\n",
        "class BigramLanguageModel(nn.Module):\n",
        "    def __init__(self, vocab_size_):\n",
        "        super().__init__()\n",
        "        self.token_embedding_table = nn.Embedding(vocab_size_, vocab_size_)\n",
        "\n",
        "    def forward(self, idx, targets=None):\n",
        "        logits = self.token_embedding_table(idx)\n",
        "        if targets == None:\n",
        "            loss = None\n",
        "        else:\n",
        "            B, T, C = logits.shape\n",
        "            logits = logits.view(B*T, C)\n",
        "            targets = targets.view(B*T)\n",
        "            loss = ... # cross entropy loss function\n",
        "\n",
        "        return logits, loss\n",
        "\n",
        "    def generate(self, idx, max_new_tokens):\n",
        "        for _ in range(max_new_tokens):\n",
        "            logits, loss = self(idx)\n",
        "            logits = logits[:, -1, :]\n",
        "            probs = F.softmax(logits, dim=-1)\n",
        "            idx_next = torch.multinomial(probs, num_samples=1)\n",
        "            idx = torch.cat((idx, idx_next), dim=1)\n",
        "        return idx"
      ],
      "metadata": {
        "id": "ks1zTIEBbWJT"
      },
      "execution_count": null,
      "outputs": []
    },
    {
      "cell_type": "code",
      "source": [
        "# make a forward pass with the BigramLanguageModel Class\n",
        "# this step is just a test to check if the call works and not part of the training\n"
      ],
      "metadata": {
        "colab": {
          "base_uri": "https://localhost:8080/"
        },
        "id": "eOeapmFibcCW",
        "outputId": "b53ffdaf-c779-4c86-f72e-6d1ffc52f73e"
      },
      "execution_count": null,
      "outputs": [
        {
          "output_type": "stream",
          "name": "stdout",
          "text": [
            "torch.Size([32, 65])\n",
            "tensor(4.7746, grad_fn=<NllLossBackward0>)\n"
          ]
        }
      ]
    },
    {
      "cell_type": "code",
      "source": [
        "# training\n",
        "optimizer = ... # initialise the optimiser\n",
        "batch_size = ... # set a batch size\n",
        "for steps in range(1000):\n",
        "    xb, yb = ... # get the training batch\n",
        "\n",
        "    logits, loss =  # make the forward pass\n",
        "    optimizer.zero_grad(set_to_none=True)\n",
        "    loss.backward()\n",
        "    optimizer.step()\n",
        "print(loss.item())"
      ],
      "metadata": {
        "id": "NFbfIrpAbfqm"
      },
      "execution_count": null,
      "outputs": []
    },
    {
      "cell_type": "code",
      "source": [
        "# this step generates text using your trained model\n",
        "# it probably won't generate anything interesting (or maybe it will?)\n",
        "# by the time you reach this step you should have uncerstood the principals of:\n",
        "# 1. How the pre-training works\n",
        "# 2. Can go back to the corret sources to understand how to expand on this basic knowledge\n",
        "\n",
        "print(decode(m.generate(idx=torch.zeros((1, 1), dtype=torch.long), max_new_tokens=500)[0].tolist())) # you can change max_new_tokens=500 to change size of the generation"
      ],
      "metadata": {
        "id": "4Z3RgcZ5poqN"
      },
      "execution_count": null,
      "outputs": []
    }
  ]
}